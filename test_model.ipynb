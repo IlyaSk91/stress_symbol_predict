{
  "nbformat": 4,
  "nbformat_minor": 0,
  "metadata": {
    "colab": {
      "name": "test_model.ipynb",
      "provenance": [],
      "collapsed_sections": []
    },
    "kernelspec": {
      "name": "python3",
      "display_name": "Python 3"
    }
  },
  "cells": [
    {
      "cell_type": "code",
      "metadata": {
        "id": "x-B89Qf9jeWp",
        "colab_type": "code",
        "colab": {}
      },
      "source": [
        "#from google.colab import drive\n",
        "#drive.mount('/content/drive')\n",
        "\n",
        "import re\n",
        "import numpy as np\n",
        "from keras.models import model_from_json\n",
        "import gdown\n",
        "\n",
        "#path='/content/drive/My Drive/Colab Notebooks/'\n",
        "\n",
        "# загрузка модели\n",
        "url = 'https://raw.githubusercontent.com/IlyaSk10/stress_symbol_predict/master/model_3.json'\n",
        "output = \"model_3.json\"\n",
        "gdown.download(url, output, quiet=False)\n",
        "json_file = open(\"model_3.json\", 'r')\n",
        "loaded_model_json = json_file.read()\n",
        "json_file.close()\n",
        "model = model_from_json(loaded_model_json)\n",
        "\n",
        "# загрузка весов\n",
        "url = 'https://github.com/IlyaSk10/stress_symbol_predict/raw/master/model_3.h5'\n",
        "output = \"model_3.h5\"\n",
        "gdown.download(url, output, quiet=False)\n",
        "model.load_weights(\"model_3.h5\")\n",
        "print(\"Loaded model from disk\")\n",
        "\n",
        "MAXLEN=40\n",
        "CHARS = ['-', 'а', 'б', 'в', 'г', 'д', 'е', 'ж', 'з', 'и', 'й', 'к',\n",
        "         'л', 'м', 'н', 'о', 'п', 'р', 'с', 'т', 'у', 'ф', 'х', 'ц', 'ч', 'ш',\n",
        "         'щ', 'ъ', 'ы', 'ь', 'э', 'ю', 'я', 'ё']\n",
        "CHAR_INDICES = dict((c, i) for i, c in enumerate(CHARS))\n",
        "\n",
        "# функция преобразования слова в вектор\n",
        "def input_word(word):\n",
        "    x = np.zeros((1, MAXLEN, len(CHAR_INDICES)))\n",
        "    for index, letter in enumerate(word.rstrip()):\n",
        "        x[0, index, CHAR_INDICES[letter]] = 1\n",
        "    return x\n",
        "\n",
        "\n",
        "# функция расставления знаков ударения на слова\n",
        "def word_stress(sentence,stress_symbol=\"'\"):\n",
        "    tokens=re.findall(r'[а-яА-ЯёЁ]+',sentence)\n",
        "    tokens=[i for i in tokens if len(i)>1]\n",
        "    #print(tokens)\n",
        "    for token in tokens:\n",
        "        C=input_word(token.lower()).reshape(1,MAXLEN,len(CHARS))\n",
        "        position=int(np.where(model.predict(C)==model.predict(C).max())[1])\n",
        "        #print(position)\n",
        "        repl=token[:position]+stress_symbol+token[position:]\n",
        "        #print(repl)\n",
        "        #repl=token[:position]+stress_symbol+token[position:]\n",
        "        sentence=re.sub(token,repl,sentence)\n",
        "    return sentence\n",
        "\n",
        "  "
      ],
      "execution_count": 0,
      "outputs": []
    },
    {
      "cell_type": "code",
      "metadata": {
        "id": "HU5sKa4boIfN",
        "colab_type": "code",
        "outputId": "23d3106d-5f9e-4d56-ddf8-da37acc8884b",
        "colab": {
          "base_uri": "https://localhost:8080/",
          "height": 34
        }
      },
      "source": [
        "sentence='В 1766 году, в ходе археологических раскопок в Олимпии, были обнаружены спортивные и храмовые сооружения. В 1875 году археологические исследования и раскопки продолжились под немецким руководством.'\n",
        "word_stress(sentence,stress_symbol=\"'\")"
      ],
      "execution_count": 6,
      "outputs": [
        {
          "output_type": "execute_result",
          "data": {
            "text/plain": [
              "\"В 1766 го'ду, в хо'де археологи'ческих раскопо'к в Оли'мпии, бы'ли обнару'жены спорти'вные и хра'мовые сооруже'ния. В 1875 го'ду археологи'ческие иссле'дования и раско'пки продолжи'лись по'д неме'цким руково'дством.\""
            ]
          },
          "metadata": {
            "tags": []
          },
          "execution_count": 6
        }
      ]
    }
  ]
}